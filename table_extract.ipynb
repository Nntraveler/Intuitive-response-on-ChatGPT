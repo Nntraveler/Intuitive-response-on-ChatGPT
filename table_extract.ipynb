{
 "cells": [
  {
   "cell_type": "code",
   "execution_count": 22,
   "id": "96dcc9ac",
   "metadata": {},
   "outputs": [
    {
     "name": "stdout",
     "output_type": "stream",
     "text": [
      "The PDF has 20 pages.\n"
     ]
    }
   ],
   "source": [
    "import PyPDF2\n",
    "\n",
    "def get_total_pages(pdf_path):\n",
    "    with open(pdf_path, \"rb\") as pdf_file:\n",
    "        pdf_reader = PyPDF2.PdfReader(pdf_file)\n",
    "        total_pages = len(pdf_reader.pages)\n",
    "    return total_pages\n",
    "\n",
    "pdf_path = 'ir-q4-2016-full-announcement.pdf'\n",
    "print(f\"The PDF has {get_total_pages(pdf_path)} pages.\")"
   ]
  },
  {
   "cell_type": "code",
   "execution_count": 21,
   "id": "a11ba821",
   "metadata": {},
   "outputs": [
    {
     "name": "stdout",
     "output_type": "stream",
     "text": [
      "Saved result/ir-q4-2016-full-announcement/tables_png/page_1_table_1.png\n",
      "Saved result/ir-q4-2016-full-announcement/tables_png/page_1_table_2.png\n",
      "Saved result/ir-q4-2016-full-announcement/tables_png/page_2_table_3.png\n",
      "Saved result/ir-q4-2016-full-announcement/tables_png/page_3_table_4.png\n",
      "Saved result/ir-q4-2016-full-announcement/tables_png/page_3_table_5.png\n",
      "Saved result/ir-q4-2016-full-announcement/tables_png/page_5_table_6.png\n",
      "Saved result/ir-q4-2016-full-announcement/tables_png/page_6_table_7.png\n",
      "Saved result/ir-q4-2016-full-announcement/tables_png/page_7_table_8.png\n",
      "Saved result/ir-q4-2016-full-announcement/tables_png/page_7_table_9.png\n",
      "Saved result/ir-q4-2016-full-announcement/tables_png/page_8_table_10.png\n",
      "Saved result/ir-q4-2016-full-announcement/tables_png/page_8_table_11.png\n",
      "Saved result/ir-q4-2016-full-announcement/tables_png/page_9_table_12.png\n",
      "Saved result/ir-q4-2016-full-announcement/tables_png/page_11_table_13.png\n",
      "Saved result/ir-q4-2016-full-announcement/tables_png/page_11_table_14.png\n",
      "Saved result/ir-q4-2016-full-announcement/tables_png/page_11_table_15.png\n",
      "Saved result/ir-q4-2016-full-announcement/tables_png/page_12_table_16.png\n",
      "Saved result/ir-q4-2016-full-announcement/tables_png/page_13_table_17.png\n",
      "Saved result/ir-q4-2016-full-announcement/tables_png/page_14_table_18.png\n",
      "Saved result/ir-q4-2016-full-announcement/tables_png/page_15_table_19.png\n",
      "Saved result/ir-q4-2016-full-announcement/tables_png/page_15_table_20.png\n",
      "Saved result/ir-q4-2016-full-announcement/tables_png/page_16_table_21.png\n",
      "Saved result/ir-q4-2016-full-announcement/tables_png/page_16_table_22.png\n",
      "Saved result/ir-q4-2016-full-announcement/tables_png/page_17_table_23.png\n",
      "Saved result/ir-q4-2016-full-announcement/tables_png/page_17_table_24.png\n",
      "Saved result/ir-q4-2016-full-announcement/tables_png/page_18_table_25.png\n",
      "Saved result/ir-q4-2016-full-announcement/tables_png/page_18_table_26.png\n",
      "Saved result/ir-q4-2016-full-announcement/tables_png/page_18_table_27.png\n",
      "Saved result/ir-q4-2016-full-announcement/tables_png/page_18_table_28.png\n",
      "Saved result/ir-q4-2016-full-announcement/tables_png/page_18_table_29.png\n",
      "Saved result/ir-q4-2016-full-announcement/tables_png/page_19_table_30.png\n",
      "Saved result/ir-q4-2016-full-announcement/tables_png/page_19_table_31.png\n",
      "Saved result/ir-q4-2016-full-announcement/tables_png/page_20_table_32.png\n",
      "Saved result/ir-q4-2016-full-announcement/tables_png/page_20_table_33.png\n"
     ]
    }
   ],
   "source": [
    "import tabula\n",
    "import fitz  # PyMuPDF\n",
    "import os\n",
    "from PIL import Image\n",
    "\n",
    "def extract_table_as_png(pdf_path, margin=10):\n",
    "    pdf_document = fitz.open(pdf_path)\n",
    "    pdf_name = os.path.basename(pdf_path).replace(\".pdf\", \"\")\n",
    "    result_dir = f\"result/{pdf_name}/tables_png\"\n",
    "\n",
    "    if not os.path.exists(result_dir):\n",
    "        os.makedirs(result_dir)\n",
    "\n",
    "    total_pages = len(pdf_document)\n",
    "    table_count = 0  # Initialize a counter for all tables in the document\n",
    "\n",
    "    for page_num in range(1, total_pages + 1):\n",
    "        # Extracting tables from the PDF\n",
    "        tables = tabula.read_pdf(pdf_path, pages=page_num, multiple_tables=True, output_format=\"json\")\n",
    "\n",
    "        # Convert the specific page to an image using PyMuPDF\n",
    "        pdf_page = pdf_document[page_num - 1]\n",
    "        page_image = pdf_page.get_pixmap()\n",
    "        img = Image.frombytes(\"RGB\", [page_image.width, page_image.height], page_image.samples)\n",
    "\n",
    "        for table in tables:\n",
    "            # Increment the table counter for each table found\n",
    "            table_count += 1\n",
    "            \n",
    "            # Using the table count for naming, not the index within this page\n",
    "            table_image_path = f\"{result_dir}/page_{page_num}_table_{table_count}.png\"\n",
    "            \n",
    "            # Assuming 'table' is a dictionary with 'top', 'left', 'width', 'height'\n",
    "            top, left, bottom, right = (\n",
    "                table['top'],\n",
    "                table['left'],\n",
    "                table['top'] + table['height'],\n",
    "                table['left'] + table['width'],\n",
    "            )\n",
    "\n",
    "            # Adjust coordinates to make sure we capture everything\n",
    "            top = max(top - margin, 0)\n",
    "            bottom = min(bottom + margin, img.height)\n",
    "            left = max(left - margin, 0)\n",
    "            right = min(right + margin, img.width)\n",
    "\n",
    "            # Crop the table region and save as PNG\n",
    "            table_image = img.crop((left, top, right, bottom))\n",
    "            table_image.save(table_image_path, \"png\")\n",
    "            print(f\"Saved {table_image_path}\")\n",
    "\n",
    "pdf_path = 'ir-q4-2016-full-announcement.pdf'\n",
    "extract_table_as_png(pdf_path)\n"
   ]
  },
  {
   "cell_type": "code",
   "execution_count": 20,
   "id": "7929ec6b",
   "metadata": {},
   "outputs": [
    {
     "name": "stdout",
     "output_type": "stream",
     "text": [
      "Saved Table 1 to 'result/ir-q1-2023-full-announcement/tables_csv/table_1.csv'\n",
      "Saved Table 2 to 'result/ir-q1-2023-full-announcement/tables_csv/table_2.csv'\n",
      "Saved Table 3 to 'result/ir-q1-2023-full-announcement/tables_csv/table_3.csv'\n",
      "Saved Table 4 to 'result/ir-q1-2023-full-announcement/tables_csv/table_4.csv'\n",
      "Saved Table 5 to 'result/ir-q1-2023-full-announcement/tables_csv/table_5.csv'\n",
      "Saved Table 6 to 'result/ir-q1-2023-full-announcement/tables_csv/table_6.csv'\n",
      "Saved Table 7 to 'result/ir-q1-2023-full-announcement/tables_csv/table_7.csv'\n",
      "Saved Table 8 to 'result/ir-q1-2023-full-announcement/tables_csv/table_8.csv'\n",
      "Saved Table 9 to 'result/ir-q1-2023-full-announcement/tables_csv/table_9.csv'\n",
      "Saved Table 10 to 'result/ir-q1-2023-full-announcement/tables_csv/table_10.csv'\n",
      "Saved Table 11 to 'result/ir-q1-2023-full-announcement/tables_csv/table_11.csv'\n",
      "Saved Table 12 to 'result/ir-q1-2023-full-announcement/tables_csv/table_12.csv'\n",
      "Saved Table 13 to 'result/ir-q1-2023-full-announcement/tables_csv/table_13.csv'\n",
      "Saved Table 14 to 'result/ir-q1-2023-full-announcement/tables_csv/table_14.csv'\n"
     ]
    }
   ],
   "source": [
    "import tabula\n",
    "import os\n",
    "\n",
    "def extract_all_tables_to_csv(pdf_path, base_output_folder='result'):\n",
    "    # Extract the PDF name without the extension\n",
    "    pdf_name = os.path.basename(pdf_path).replace(\".pdf\", \"\")\n",
    "    \n",
    "    # Create the output directory path including the PDF name\n",
    "    output_folder = os.path.join(base_output_folder, pdf_name, 'tables_csv')\n",
    "\n",
    "    # Create output directory if it does not exist\n",
    "    if not os.path.exists(output_folder):\n",
    "        os.makedirs(output_folder)\n",
    "\n",
    "    # Read PDF file, pages=\"all\" will read all the pages\n",
    "    tables = tabula.read_pdf(pdf_path, pages=\"all\", multiple_tables=True)\n",
    "\n",
    "    # Loop through all detected tables\n",
    "    for idx, table in enumerate(tables):\n",
    "        # Generate a CSV file name based on the table index\n",
    "        csv_file_name = f\"table_{idx + 1}.csv\"\n",
    "        csv_file_path = os.path.join(output_folder, csv_file_name)\n",
    "\n",
    "        # Save each table as a CSV file\n",
    "        table.to_csv(csv_file_path, index=False)\n",
    "        print(f\"Saved Table {idx + 1} to '{csv_file_path}'\")\n",
    "\n",
    "# The path to your PDF file\n",
    "pdf_path = 'ir-q1-2023-full-announcement.pdf'\n",
    "\n",
    "# Call the function\n",
    "extract_all_tables_to_csv(pdf_path)\n"
   ]
  }
 ],
 "metadata": {
  "kernelspec": {
   "display_name": "Python 3 (ipykernel)",
   "language": "python",
   "name": "python3"
  },
  "language_info": {
   "codemirror_mode": {
    "name": "ipython",
    "version": 3
   },
   "file_extension": ".py",
   "mimetype": "text/x-python",
   "name": "python",
   "nbconvert_exporter": "python",
   "pygments_lexer": "ipython3",
   "version": "3.9.12"
  }
 },
 "nbformat": 4,
 "nbformat_minor": 5
}
