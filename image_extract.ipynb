{
 "cells": [
  {
   "cell_type": "code",
   "execution_count": 11,
   "metadata": {},
   "outputs": [],
   "source": [
    "from sentence_transformers import SentenceTransformer, util\n",
    "import torch\n",
    "from pypdf import PdfReader\n",
    "from PIL import Image\n",
    "import os\n",
    "import io\n",
    "from collections import defaultdict\n",
    "import json\n",
    "import re"
   ]
  },
  {
   "cell_type": "code",
   "execution_count": 12,
   "metadata": {},
   "outputs": [],
   "source": [
    "def preprocess_context(context:str):\n",
    "    context = re.sub(r\"\\\\u[0-9A-Fa-f]{4}\", \"\", context)\n",
    "    rows = context.split('\\n')\n",
    "    rows = [row[:77] for row in rows if row != '']\n",
    "    return rows"
   ]
  },
  {
   "cell_type": "code",
   "execution_count": 13,
   "metadata": {},
   "outputs": [],
   "source": [
    "#Load CLIP model\n",
    "model = SentenceTransformer('clip-ViT-B-32')\n",
    "def get_similar_sentences(image_emb, corpus_emb, top_k=1):\n",
    "\n",
    "    # We use cosine-similarity and torch.topk to find the highest 5 scores\n",
    "    cos_scores = util.cos_sim(image_emb, corpus_emb)[0]\n",
    "    top_results = torch.topk(cos_scores, k=top_k)\n",
    "\n",
    "    return top_results"
   ]
  },
  {
   "cell_type": "code",
   "execution_count": 15,
   "metadata": {},
   "outputs": [],
   "source": [
    "def image_extract(folder, pdf_name):\n",
    "    reader = PdfReader(os.path.join(folder, pdf_name))\n",
    "    caption = defaultdict(list)\n",
    "\n",
    "    for i, page in enumerate(reader.pages[:]):\n",
    "        candidate_images = []\n",
    "        try:\n",
    "            for image_file_object in page.images:                \n",
    "                image = Image.open(io.BytesIO(image_file_object.data))\n",
    "                width, height = image.size\n",
    "                if width < 100 or height < 100:\n",
    "                    continue\n",
    "                image = image.convert('RGB')\n",
    "                file_name = \"page_{}_image_{}.png\".format(i, len(candidate_images))\n",
    "                image.save(os.path.join(folder,file_name))\n",
    "                candidate_images.append(image)\n",
    "\n",
    "        except Exception as e:\n",
    "            print(f\"image extracton failed in {pdf_name}, page:{i}\")\n",
    "        if len(candidate_images) == 0:\n",
    "            continue\n",
    "\n",
    "        raw_context = page.extract_text() # extract text from this page\n",
    "        context = preprocess_context(raw_context)\n",
    "        if len(context) == 0:\n",
    "            continue\n",
    "        top_k = min(len(context), 3)\n",
    "        corpus_emb = model.encode(context, convert_to_tensor=True)\n",
    "\n",
    "        image_emb = model.encode(candidate_images, convert_to_tensor=True)\n",
    "        top_results = util.semantic_search(image_emb, corpus_emb, top_k=top_k)\n",
    "        for j in range(len(candidate_images)):\n",
    "            file_name = f\"page_{i}_image_{j}.png\"\n",
    "            candidate_images[j].save(os.path.join(folder,file_name))\n",
    "            results = top_results[j]\n",
    "            for k in range(top_k):\n",
    "                if results[k][\"score\"] < 0.3:\n",
    "                    break\n",
    "                caption[file_name].append(context[results[k][\"corpus_id\"]])\n",
    "    json.dump(caption, open(os.path.join(folder, \"caption.json\"), \"w\"))"
   ]
  },
  {
   "cell_type": "code",
   "execution_count": 16,
   "metadata": {},
   "outputs": [],
   "source": [
    "def delete_image_files(directory):\n",
    "    # List all files in the given directory\n",
    "    files = os.listdir(directory)\n",
    "\n",
    "    for file in files:\n",
    "        if \"page\" in file and \"image\" in file and file.endswith('.png'):\n",
    "            file_path = os.path.join(directory, file)\n",
    "\n",
    "            # Delete the file\n",
    "            os.remove(file_path)\n",
    "        if \"caption\" in file:\n",
    "            file_path = os.path.join(directory, file)\n",
    "\n",
    "            # Delete the file\n",
    "            os.remove(file_path)"
   ]
  },
  {
   "cell_type": "code",
   "execution_count": 10,
   "metadata": {},
   "outputs": [
    {
     "ename": "FileNotFoundError",
     "evalue": "[WinError 2] The system cannot find the file specified: 'webApp2/data/result\\\\Colgate_2015\\\\caption.json'",
     "output_type": "error",
     "traceback": [
      "\u001b[1;31m---------------------------------------------------------------------------\u001b[0m",
      "\u001b[1;31mFileNotFoundError\u001b[0m                         Traceback (most recent call last)",
      "\u001b[1;32mc:\\Users\\Wenqi.Sun\\OneDrive - Unilever\\Documents\\Python Scripts\\Intuitive-response-on-ChatGPT\\image_extract.ipynb Cell 6\u001b[0m line \u001b[0;36m6\n\u001b[0;32m      <a href='vscode-notebook-cell:/c%3A/Users/Wenqi.Sun/OneDrive%20-%20Unilever/Documents/Python%20Scripts/Intuitive-response-on-ChatGPT/image_extract.ipynb#W5sZmlsZQ%3D%3D?line=3'>4</a>\u001b[0m folder \u001b[39m=\u001b[39m os\u001b[39m.\u001b[39mpath\u001b[39m.\u001b[39mjoin(root_folder, \u001b[39mf\u001b[39m\u001b[39m\"\u001b[39m\u001b[39m{\u001b[39;00mcompany\u001b[39m}\u001b[39;00m\u001b[39m_\u001b[39m\u001b[39m{\u001b[39;00myear\u001b[39m}\u001b[39;00m\u001b[39m\"\u001b[39m)\n\u001b[0;32m      <a href='vscode-notebook-cell:/c%3A/Users/Wenqi.Sun/OneDrive%20-%20Unilever/Documents/Python%20Scripts/Intuitive-response-on-ChatGPT/image_extract.ipynb#W5sZmlsZQ%3D%3D?line=4'>5</a>\u001b[0m pdf_name \u001b[39m=\u001b[39m \u001b[39mf\u001b[39m\u001b[39m\"\u001b[39m\u001b[39m{\u001b[39;00mcompany\u001b[39m}\u001b[39;00m\u001b[39m_\u001b[39m\u001b[39m{\u001b[39;00myear\u001b[39m}\u001b[39;00m\u001b[39m.pdf\u001b[39m\u001b[39m\"\u001b[39m\n\u001b[1;32m----> <a href='vscode-notebook-cell:/c%3A/Users/Wenqi.Sun/OneDrive%20-%20Unilever/Documents/Python%20Scripts/Intuitive-response-on-ChatGPT/image_extract.ipynb#W5sZmlsZQ%3D%3D?line=5'>6</a>\u001b[0m delete_image_files(folder)\n\u001b[0;32m      <a href='vscode-notebook-cell:/c%3A/Users/Wenqi.Sun/OneDrive%20-%20Unilever/Documents/Python%20Scripts/Intuitive-response-on-ChatGPT/image_extract.ipynb#W5sZmlsZQ%3D%3D?line=6'>7</a>\u001b[0m \u001b[39m# image_extract(folder, pdf_name)\u001b[39;00m\n",
      "\u001b[1;32mc:\\Users\\Wenqi.Sun\\OneDrive - Unilever\\Documents\\Python Scripts\\Intuitive-response-on-ChatGPT\\image_extract.ipynb Cell 6\u001b[0m line \u001b[0;36m1\n\u001b[0;32m      <a href='vscode-notebook-cell:/c%3A/Users/Wenqi.Sun/OneDrive%20-%20Unilever/Documents/Python%20Scripts/Intuitive-response-on-ChatGPT/image_extract.ipynb#W5sZmlsZQ%3D%3D?line=8'>9</a>\u001b[0m         \u001b[39m# Delete the file\u001b[39;00m\n\u001b[0;32m     <a href='vscode-notebook-cell:/c%3A/Users/Wenqi.Sun/OneDrive%20-%20Unilever/Documents/Python%20Scripts/Intuitive-response-on-ChatGPT/image_extract.ipynb#W5sZmlsZQ%3D%3D?line=9'>10</a>\u001b[0m         os\u001b[39m.\u001b[39mremove(file_path)\n\u001b[1;32m---> <a href='vscode-notebook-cell:/c%3A/Users/Wenqi.Sun/OneDrive%20-%20Unilever/Documents/Python%20Scripts/Intuitive-response-on-ChatGPT/image_extract.ipynb#W5sZmlsZQ%3D%3D?line=10'>11</a>\u001b[0m os\u001b[39m.\u001b[39mremove(os\u001b[39m.\u001b[39mpath\u001b[39m.\u001b[39mjoin(directory, \u001b[39m\"\u001b[39m\u001b[39mcaption.json\u001b[39m\u001b[39m\"\u001b[39m))\n",
      "\u001b[1;31mFileNotFoundError\u001b[0m: [WinError 2] The system cannot find the file specified: 'webApp2/data/result\\\\Colgate_2015\\\\caption.json'"
     ]
    }
   ],
   "source": [
    "root_folder = \"webApp2/data/result\"\n",
    "for company in [\"Colgate\", \"L_Oreal\", \"Nestle\", \"P&G\"]:\n",
    "    for year in range(2015, 2023):\n",
    "        folder = os.path.join(root_folder, f\"{company}_{year}\")\n",
    "        pdf_name = f\"{company}_{year}.pdf\"\n",
    "        delete_image_files(folder)\n",
    "        image_extract(folder, pdf_name)"
   ]
  }
 ],
 "metadata": {
  "kernelspec": {
   "display_name": "base",
   "language": "python",
   "name": "python3"
  },
  "language_info": {
   "codemirror_mode": {
    "name": "ipython",
    "version": 3
   },
   "file_extension": ".py",
   "mimetype": "text/x-python",
   "name": "python",
   "nbconvert_exporter": "python",
   "pygments_lexer": "ipython3",
   "version": "3.11.5"
  }
 },
 "nbformat": 4,
 "nbformat_minor": 2
}
