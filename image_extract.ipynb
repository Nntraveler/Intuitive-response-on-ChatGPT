{
 "cells": [
  {
   "cell_type": "code",
   "execution_count": 2,
   "metadata": {},
   "outputs": [],
   "source": [
    "from sentence_transformers import SentenceTransformer, util\n",
    "import torch\n",
    "from pypdf import PdfReader\n",
    "from PIL import Image\n",
    "import os\n",
    "import io\n",
    "from collections import defaultdict\n",
    "import json"
   ]
  },
  {
   "cell_type": "code",
   "execution_count": 3,
   "metadata": {},
   "outputs": [],
   "source": [
    "def preprocess_context(context:str):\n",
    "    rows = context.split('\\n')\n",
    "    rows = [row[:77] for row in rows if row != '']\n",
    "    return rows"
   ]
  },
  {
   "cell_type": "code",
   "execution_count": 4,
   "metadata": {},
   "outputs": [
    {
     "name": "stderr",
     "output_type": "stream",
     "text": [
      "Downloading .gitattributes: 100%|██████████| 690/690 [00:00<?, ?B/s] \n",
      "Downloading (…)LIPModel/config.json: 100%|██████████| 4.03k/4.03k [00:00<?, ?B/s]\n",
      "Downloading 0_CLIPModel/merges.txt: 100%|██████████| 525k/525k [00:00<00:00, 9.59MB/s]\n",
      "Downloading (…)rocessor_config.json: 100%|██████████| 316/316 [00:00<?, ?B/s] \n",
      "Downloading pytorch_model.bin: 100%|██████████| 605M/605M [00:59<00:00, 10.2MB/s] \n",
      "Downloading (…)cial_tokens_map.json: 100%|██████████| 389/389 [00:00<?, ?B/s] \n",
      "Downloading (…)okenizer_config.json: 100%|██████████| 604/604 [00:00<?, ?B/s] \n",
      "Downloading 0_CLIPModel/vocab.json: 100%|██████████| 961k/961k [00:00<00:00, 11.6MB/s]\n",
      "Downloading README.md: 100%|██████████| 1.88k/1.88k [00:00<?, ?B/s]\n",
      "Downloading (…)ce_transformers.json: 100%|██████████| 116/116 [00:00<?, ?B/s] \n",
      "Downloading modules.json: 100%|██████████| 122/122 [00:00<?, ?B/s] \n"
     ]
    }
   ],
   "source": [
    "#Load CLIP model\n",
    "model = SentenceTransformer('clip-ViT-B-32')\n",
    "def get_similar_sentences(image_emb, corpus_emb, top_k=1):\n",
    "\n",
    "    # We use cosine-similarity and torch.topk to find the highest 5 scores\n",
    "    cos_scores = util.cos_sim(image_emb, corpus_emb)[0]\n",
    "    top_results = torch.topk(cos_scores, k=top_k)\n",
    "\n",
    "    return top_results"
   ]
  },
  {
   "cell_type": "code",
   "execution_count": 8,
   "metadata": {},
   "outputs": [],
   "source": [
    "def image_extract(folder, pdf_name):\n",
    "    reader = PdfReader(os.path.join(folder, pdf_name))\n",
    "    count = 0\n",
    "    caption = defaultdict(list)\n",
    "\n",
    "    for i, page in enumerate(reader.pages[:]):\n",
    "        raw_context = page.extract_text() # extract text from this page\n",
    "        context = preprocess_context(raw_context)\n",
    "        count = 0\n",
    "        top_k = min(len(context), 3)\n",
    "        corpus_emb = model.encode(context, convert_to_tensor=True)\n",
    "        for image_file_object in page.images:\n",
    "            file_name = os.path.splitext(image_file_object.name)[0]\n",
    "            file_name = f\"page_{i}_image_{count}.jpg\"\n",
    "            image = Image.open(io.BytesIO(image_file_object.data))\n",
    "            image = image.convert('RGB')\n",
    "            image_emb = model.encode(image, convert_to_tensor=True)\n",
    "            top_results = get_similar_sentences(image_emb, corpus_emb, top_k=top_k)\n",
    "            for score, idx in zip(top_results[0], top_results[1]):\n",
    "                if score < 0.25:\n",
    "                    break\n",
    "                caption[file_name].append(context[idx])\n",
    "            image.save(os.path.join(folder,file_name))\n",
    "            count += 1\n",
    "    json.dump(caption, open(os.path.join(folder, \"caption.json\"), \"w\"))"
   ]
  },
  {
   "cell_type": "code",
   "execution_count": 6,
   "metadata": {},
   "outputs": [],
   "source": [
    "company = \"Unilever\"\n",
    "root_folder = \"webApp2/data/result\""
   ]
  },
  {
   "cell_type": "code",
   "execution_count": 9,
   "metadata": {},
   "outputs": [],
   "source": [
    "for year in range(2016, 2023):\n",
    "    folder = os.path.join(root_folder, f\"{company}_{year}\")\n",
    "    pdf_name = f\"ir-q4-{year}-full-announcement.pdf\"\n",
    "    image_extract(folder, pdf_name)"
   ]
  }
 ],
 "metadata": {
  "kernelspec": {
   "display_name": "base",
   "language": "python",
   "name": "python3"
  },
  "language_info": {
   "codemirror_mode": {
    "name": "ipython",
    "version": 3
   },
   "file_extension": ".py",
   "mimetype": "text/x-python",
   "name": "python",
   "nbconvert_exporter": "python",
   "pygments_lexer": "ipython3",
   "version": "3.11.5"
  }
 },
 "nbformat": 4,
 "nbformat_minor": 2
}
