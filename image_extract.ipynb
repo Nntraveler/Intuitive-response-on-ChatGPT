{
 "cells": [
  {
   "cell_type": "code",
   "execution_count": 1,
   "metadata": {},
   "outputs": [
    {
     "name": "stderr",
     "output_type": "stream",
     "text": [
      "c:\\Users\\Wenqi.Sun\\AppData\\Local\\miniconda3\\Lib\\site-packages\\tqdm\\auto.py:21: TqdmWarning: IProgress not found. Please update jupyter and ipywidgets. See https://ipywidgets.readthedocs.io/en/stable/user_install.html\n",
      "  from .autonotebook import tqdm as notebook_tqdm\n"
     ]
    }
   ],
   "source": [
    "from sentence_transformers import SentenceTransformer, util\n",
    "import torch\n",
    "from pypdf import PdfReader\n",
    "from PIL import Image\n",
    "import os\n",
    "import io\n",
    "from collections import defaultdict\n",
    "import json\n",
    "import re"
   ]
  },
  {
   "cell_type": "code",
   "execution_count": 2,
   "metadata": {},
   "outputs": [],
   "source": [
    "def preprocess_context(context:str):\n",
    "    context = re.sub(r\"\\\\u[0-9A-Fa-f]{4}\", \"\", context)\n",
    "    rows = context.split('\\n')\n",
    "    rows = [row[:77] for row in rows if row != '']\n",
    "    return rows"
   ]
  },
  {
   "cell_type": "code",
   "execution_count": 3,
   "metadata": {},
   "outputs": [],
   "source": [
    "#Load CLIP model\n",
    "model = SentenceTransformer('clip-ViT-B-32')\n",
    "def get_similar_sentences(image_emb, corpus_emb, top_k=1):\n",
    "\n",
    "    # We use cosine-similarity and torch.topk to find the highest 5 scores\n",
    "    cos_scores = util.cos_sim(image_emb, corpus_emb)[0]\n",
    "    top_results = torch.topk(cos_scores, k=top_k)\n",
    "\n",
    "    return top_results"
   ]
  },
  {
   "cell_type": "code",
   "execution_count": 34,
   "metadata": {},
   "outputs": [],
   "source": [
    "def image_extract(folder, pdf_name):\n",
    "    reader = PdfReader(os.path.join(folder, pdf_name))\n",
    "    caption = defaultdict(list)\n",
    "\n",
    "    for i, page in enumerate(reader.pages[:]):\n",
    "        candidate_images = []\n",
    "        try:\n",
    "            for image_file_object in page.images:                \n",
    "                image = Image.open(io.BytesIO(image_file_object.data))\n",
    "                width, height = image.size\n",
    "                if width < 100 or height < 100:\n",
    "                    continue\n",
    "                image = image.convert('RGB')\n",
    "                file_name = \"page_{}_image_{}.png\".format(i, len(candidate_images))\n",
    "                image.save(os.path.join(folder,file_name))\n",
    "                candidate_images.append(image)\n",
    "\n",
    "        except Exception as e:\n",
    "            print(f\"image extracton failed in {pdf_name}, page:{i}\")\n",
    "        if len(candidate_images) == 0:\n",
    "            continue\n",
    "\n",
    "        raw_context = page.extract_text() # extract text from this page\n",
    "        context = preprocess_context(raw_context)\n",
    "        if len(context) == 0:\n",
    "            continue\n",
    "        top_k = min(len(context), 3)\n",
    "        corpus_emb = model.encode(context, convert_to_tensor=True)\n",
    "\n",
    "        image_emb = model.encode(candidate_images, convert_to_tensor=True)\n",
    "        top_results = util.semantic_search(image_emb, corpus_emb, top_k=top_k)\n",
    "        for j in range(len(candidate_images)):\n",
    "            file_name = f\"page_{i}_image_{j}.png\"\n",
    "            candidate_images[j].save(os.path.join(folder,file_name))\n",
    "            results = top_results[j]\n",
    "            for k in range(top_k):\n",
    "                if results[k][\"score\"] < 0.3:\n",
    "                    break\n",
    "                caption[file_name].append(context[results[k][\"corpus_id\"]])\n",
    "    json.dump(caption, open(os.path.join(folder, \"caption.json\"), \"w\"))"
   ]
  },
  {
   "cell_type": "code",
   "execution_count": 28,
   "metadata": {},
   "outputs": [],
   "source": [
    "def delete_image_files(directory):\n",
    "    # List all files in the given directory\n",
    "    files = os.listdir(directory)\n",
    "\n",
    "    for file in files:\n",
    "        if \"page\" in file and \"image\" in file and file.endswith('.png'):\n",
    "            file_path = os.path.join(directory, file)\n",
    "\n",
    "            # Delete the file\n",
    "            os.remove(file_path)"
   ]
  },
  {
   "cell_type": "code",
   "execution_count": 35,
   "metadata": {},
   "outputs": [
    {
     "name": "stdout",
     "output_type": "stream",
     "text": [
      "image extracton failed in Nestle_2015.pdf, page:8\n"
     ]
    },
    {
     "name": "stderr",
     "output_type": "stream",
     "text": [
      "image and mask size not matching: {'/BitsPerComponent': 8, '/ColorSpace': IndirectObject(18675, 0, 2416056520208), '/Decode': [0.0, 255], '/Filter': '/FlateDecode', '/Height': 86, '/Intent': '/RelativeColorimetric', '/Name': '/X', '/SMask': IndirectObject(21065, 0, 2416056520208), '/Subtype': '/Image', '/Type': '/XObject', '/Width': 158}\n",
      "image and mask size not matching: {'/BitsPerComponent': 8, '/ColorSpace': IndirectObject(18675, 0, 2416056520208), '/Decode': [0.0, 255], '/Filter': '/FlateDecode', '/Height': 15, '/Intent': '/RelativeColorimetric', '/Name': '/X', '/SMask': IndirectObject(21056, 0, 2416056520208), '/Subtype': '/Image', '/Type': '/XObject', '/Width': 50}\n",
      "image and mask size not matching: {'/BitsPerComponent': 8, '/ColorSpace': IndirectObject(18675, 0, 2416056520208), '/Decode': [0.0, 255], '/Filter': '/FlateDecode', '/Height': 53, '/Intent': '/RelativeColorimetric', '/Name': '/X', '/SMask': IndirectObject(21047, 0, 2416056520208), '/Subtype': '/Image', '/Type': '/XObject', '/Width': 109}\n",
      "image and mask size not matching: {'/BitsPerComponent': 8, '/ColorSpace': IndirectObject(18675, 0, 2416056520208), '/Decode': [0.0, 255], '/Filter': '/FlateDecode', '/Height': 25, '/Intent': '/RelativeColorimetric', '/Name': '/X', '/SMask': IndirectObject(21038, 0, 2416056520208), '/Subtype': '/Image', '/Type': '/XObject', '/Width': 19}\n",
      "image and mask size not matching: {'/BitsPerComponent': 8, '/ColorSpace': IndirectObject(18675, 0, 2416056520208), '/Decode': [0.0, 255], '/Filter': '/FlateDecode', '/Height': 25, '/Intent': '/RelativeColorimetric', '/Name': '/X', '/SMask': IndirectObject(21029, 0, 2416056520208), '/Subtype': '/Image', '/Type': '/XObject', '/Width': 82}\n",
      "image and mask size not matching: {'/BitsPerComponent': 8, '/ColorSpace': IndirectObject(14503, 0, 2416056520208), '/Height': 2, '/Intent': '/RelativeColorimetric', '/Name': '/X', '/SMask': IndirectObject(19604, 0, 2416056520208), '/Subtype': '/Image', '/Type': '/XObject', '/Width': 2}\n",
      "image and mask size not matching: {'/BitsPerComponent': 8, '/ColorSpace': IndirectObject(19593, 0, 2416056520208), '/Decode': [0.0, 255], '/Filter': '/FlateDecode', '/Height': 28, '/Intent': '/RelativeColorimetric', '/Name': '/X', '/SMask': IndirectObject(19594, 0, 2416056520208), '/Subtype': '/Image', '/Type': '/XObject', '/Width': 106}\n",
      "image and mask size not matching: {'/BitsPerComponent': 8, '/ColorSpace': IndirectObject(19582, 0, 2416056520208), '/Decode': [0.0, 255], '/Filter': '/FlateDecode', '/Height': 18, '/Intent': '/RelativeColorimetric', '/Name': '/X', '/SMask': IndirectObject(19583, 0, 2416056520208), '/Subtype': '/Image', '/Type': '/XObject', '/Width': 16}\n",
      "image and mask size not matching: {'/BitsPerComponent': 8, '/ColorSpace': IndirectObject(18675, 0, 2416056520208), '/Decode': [0.0, 255], '/Filter': '/FlateDecode', '/Height': 56, '/Intent': '/RelativeColorimetric', '/Name': '/X', '/SMask': IndirectObject(18686, 0, 2416056520208), '/Subtype': '/Image', '/Type': '/XObject', '/Width': 100}\n",
      "image and mask size not matching: {'/BitsPerComponent': 8, '/ColorSpace': IndirectObject(18675, 0, 2416056520208), '/Decode': [0.0, 255], '/Filter': '/FlateDecode', '/Height': 56, '/Intent': '/RelativeColorimetric', '/Name': '/X', '/SMask': IndirectObject(18686, 0, 2416056520208), '/Subtype': '/Image', '/Type': '/XObject', '/Width': 100}\n",
      "image and mask size not matching: {'/BitsPerComponent': 8, '/ColorSpace': IndirectObject(18675, 0, 2416056520208), '/Decode': [0.0, 255], '/Filter': '/FlateDecode', '/Height': 13, '/Intent': '/RelativeColorimetric', '/Name': '/X', '/SMask': IndirectObject(18676, 0, 2416056520208), '/Subtype': '/Image', '/Type': '/XObject', '/Width': 40}\n",
      "image and mask size not matching: {'/BitsPerComponent': 8, '/ColorSpace': IndirectObject(14604, 0, 2416056520208), '/Decode': [0.0, 255], '/Filter': '/FlateDecode', '/Height': 100, '/Intent': '/RelativeColorimetric', '/Name': '/X', '/SMask': IndirectObject(14911, 0, 2416056520208), '/Subtype': '/Image', '/Type': '/XObject', '/Width': 182}\n",
      "image and mask size not matching: {'/BitsPerComponent': 8, '/ColorSpace': IndirectObject(14503, 0, 2416056520208), '/Filter': '/JPXDecode', '/Height': 64, '/Intent': '/RelativeColorimetric', '/Name': '/X', '/SMask': IndirectObject(14908, 0, 2416056520208), '/Subtype': '/Image', '/Type': '/XObject', '/Width': 64}\n",
      "image and mask size not matching: {'/BitsPerComponent': 8, '/ColorSpace': IndirectObject(14604, 0, 2416056520208), '/Decode': [0.0, 255], '/Filter': '/FlateDecode', '/Height': 107, '/Intent': '/RelativeColorimetric', '/Name': '/X', '/SMask': IndirectObject(14907, 0, 2416056520208), '/Subtype': '/Image', '/Type': '/XObject', '/Width': 92}\n",
      "image and mask size not matching: {'/BitsPerComponent': 8, '/ColorSpace': IndirectObject(14674, 0, 2416056520208), '/Decode': [0.0, 255], '/Filter': '/FlateDecode', '/Height': 37, '/Intent': '/RelativeColorimetric', '/Name': '/X', '/SMask': IndirectObject(14675, 0, 2416056520208), '/Subtype': '/Image', '/Type': '/XObject', '/Width': 116}\n",
      "image and mask size not matching: {'/BitsPerComponent': 8, '/ColorSpace': IndirectObject(14662, 0, 2416056520208), '/Decode': [0.0, 255], '/Filter': '/FlateDecode', '/Height': 90, '/Intent': '/RelativeColorimetric', '/Name': '/X', '/SMask': IndirectObject(14663, 0, 2416056520208), '/Subtype': '/Image', '/Type': '/XObject', '/Width': 160}\n",
      "image and mask size not matching: {'/BitsPerComponent': 8, '/ColorSpace': IndirectObject(14628, 0, 2416056520208), '/Decode': [0.0, 255], '/Filter': '/FlateDecode', '/Height': 98, '/Intent': '/RelativeColorimetric', '/Name': '/X', '/SMask': IndirectObject(14629, 0, 2416056520208), '/Subtype': '/Image', '/Type': '/XObject', '/Width': 150}\n",
      "image and mask size not matching: {'/BitsPerComponent': 8, '/ColorSpace': IndirectObject(14503, 0, 2416056520208), '/Filter': '/JPXDecode', '/Height': 140, '/Intent': '/RelativeColorimetric', '/Name': '/X', '/SMask': IndirectObject(14624, 0, 2416056520208), '/Subtype': '/Image', '/Type': '/XObject', '/Width': 360}\n",
      "image and mask size not matching: {'/BitsPerComponent': 8, '/ColorSpace': IndirectObject(14621, 0, 2416056520208), '/Decode': [0.0, 255], '/Filter': '/FlateDecode', '/Height': 61, '/Intent': '/RelativeColorimetric', '/Name': '/X', '/SMask': IndirectObject(14622, 0, 2416056520208), '/Subtype': '/Image', '/Type': '/XObject', '/Width': 135}\n",
      "image and mask size not matching: {'/BitsPerComponent': 8, '/ColorSpace': IndirectObject(14503, 0, 2416056520208), '/Filter': '/JPXDecode', '/Height': 192, '/Intent': '/RelativeColorimetric', '/Name': '/X', '/SMask': IndirectObject(14617, 0, 2416056520208), '/Subtype': '/Image', '/Type': '/XObject', '/Width': 256}\n",
      "image and mask size not matching: {'/BitsPerComponent': 8, '/ColorSpace': IndirectObject(14613, 0, 2416056520208), '/Decode': [0.0, 255], '/Filter': '/FlateDecode', '/Height': 162, '/Intent': '/RelativeColorimetric', '/Name': '/X', '/SMask': IndirectObject(14616, 0, 2416056520208), '/Subtype': '/Image', '/Type': '/XObject', '/Width': 51}\n",
      "image and mask size not matching: {'/BitsPerComponent': 8, '/ColorSpace': IndirectObject(14613, 0, 2416056520208), '/Decode': [0.0, 255], '/Filter': '/FlateDecode', '/Height': 162, '/Intent': '/RelativeColorimetric', '/Name': '/X', '/SMask': IndirectObject(14614, 0, 2416056520208), '/Subtype': '/Image', '/Type': '/XObject', '/Width': 51}\n",
      "image and mask size not matching: {'/BitsPerComponent': 8, '/ColorSpace': IndirectObject(14608, 0, 2416056520208), '/Decode': [0.0, 255], '/Filter': '/FlateDecode', '/Height': 42, '/Intent': '/RelativeColorimetric', '/Name': '/X', '/SMask': IndirectObject(14609, 0, 2416056520208), '/Subtype': '/Image', '/Type': '/XObject', '/Width': 123}\n",
      "image and mask size not matching: {'/BitsPerComponent': 8, '/ColorSpace': IndirectObject(14604, 0, 2416056520208), '/Decode': [0.0, 255], '/Filter': '/FlateDecode', '/Height': 80, '/Intent': '/RelativeColorimetric', '/Name': '/X', '/SMask': IndirectObject(14607, 0, 2416056520208), '/Subtype': '/Image', '/Type': '/XObject', '/Width': 70}\n",
      "image and mask size not matching: {'/BitsPerComponent': 8, '/ColorSpace': IndirectObject(14604, 0, 2416056520208), '/Decode': [0.0, 255], '/Filter': '/FlateDecode', '/Height': 80, '/Intent': '/RelativeColorimetric', '/Name': '/X', '/SMask': IndirectObject(14605, 0, 2416056520208), '/Subtype': '/Image', '/Type': '/XObject', '/Width': 70}\n",
      "image and mask size not matching: {'/BitsPerComponent': 8, '/ColorSpace': IndirectObject(7099, 0, 2416031475152), '/Filter': '/DCTDecode', '/Height': 138, '/Intent': '/RelativeColorimetric', '/Name': '/X', '/SMask': IndirectObject(7, 0, 2416031475152), '/Subtype': '/Image', '/Type': '/XObject', '/Width': 202}\n",
      "image and mask size not matching: {'/BitsPerComponent': 8, '/ColorSpace': IndirectObject(6907, 0, 2416031475152), '/Filter': '/DCTDecode', '/Height': 351, '/Intent': '/RelativeColorimetric', '/Name': '/X', '/SMask': IndirectObject(56, 0, 2416031475152), '/Subtype': '/Image', '/Type': '/XObject', '/Width': 232}\n",
      "image and mask size not matching: {'/BitsPerComponent': 8, '/ColorSpace': IndirectObject(6907, 0, 2416031475152), '/Filter': '/DCTDecode', '/Height': 206, '/Intent': '/RelativeColorimetric', '/Name': '/X', '/SMask': IndirectObject(90, 0, 2416031475152), '/Subtype': '/Image', '/Type': '/XObject', '/Width': 280}\n",
      "image and mask size not matching: {'/BitsPerComponent': 8, '/ColorSpace': IndirectObject(6907, 0, 2416031475152), '/Filter': '/DCTDecode', '/Height': 226, '/Intent': '/RelativeColorimetric', '/Name': '/X', '/SMask': IndirectObject(3156, 0, 2416031475152), '/Subtype': '/Image', '/Type': '/XObject', '/Width': 311}\n",
      "image and mask size not matching: {'/BitsPerComponent': 8, '/ColorSpace': IndirectObject(6907, 0, 2416031475152), '/Filter': '/DCTDecode', '/Height': 133, '/Intent': '/RelativeColorimetric', '/Name': '/X', '/SMask': IndirectObject(3159, 0, 2416031475152), '/Subtype': '/Image', '/Type': '/XObject', '/Width': 133}\n",
      "image and mask size not matching: {'/BitsPerComponent': 8, '/ColorSpace': IndirectObject(6907, 0, 2416031475152), '/Filter': '/DCTDecode', '/Height': 245, '/Intent': '/RelativeColorimetric', '/Name': '/X', '/SMask': IndirectObject(3172, 0, 2416031475152), '/Subtype': '/Image', '/Type': '/XObject', '/Width': 162}\n",
      "image and mask size not matching: {'/BitsPerComponent': 8, '/ColorSpace': IndirectObject(6907, 0, 2416031475152), '/Filter': '/DCTDecode', '/Height': 206, '/Intent': '/RelativeColorimetric', '/Name': '/X', '/SMask': IndirectObject(3184, 0, 2416031475152), '/Subtype': '/Image', '/Type': '/XObject', '/Width': 290}\n",
      "image and mask size not matching: {'/BitsPerComponent': 8, '/ColorSpace': IndirectObject(6907, 0, 2416031475152), '/Filter': '/DCTDecode', '/Height': 182, '/Intent': '/RelativeColorimetric', '/Name': '/X', '/SMask': IndirectObject(3201, 0, 2416031475152), '/Subtype': '/Image', '/Type': '/XObject', '/Width': 306}\n",
      "image and mask size not matching: {'/BitsPerComponent': 8, '/ColorSpace': IndirectObject(6907, 0, 2416031475152), '/Filter': '/DCTDecode', '/Height': 208, '/Intent': '/RelativeColorimetric', '/Name': '/X', '/SMask': IndirectObject(3221, 0, 2416031475152), '/Subtype': '/Image', '/Type': '/XObject', '/Width': 208}\n",
      "image and mask size not matching: {'/BitsPerComponent': 8, '/ColorSpace': IndirectObject(6907, 0, 2416031475152), '/Filter': '/DCTDecode', '/Height': 243, '/Intent': '/RelativeColorimetric', '/Name': '/X', '/SMask': IndirectObject(3224, 0, 2416031475152), '/Subtype': '/Image', '/Type': '/XObject', '/Width': 206}\n",
      "image and mask size not matching: {'/BitsPerComponent': 8, '/ColorSpace': IndirectObject(6907, 0, 2416031475152), '/Filter': '/DCTDecode', '/Height': 220, '/Intent': '/RelativeColorimetric', '/Name': '/X', '/SMask': IndirectObject(3227, 0, 2416031475152), '/Subtype': '/Image', '/Type': '/XObject', '/Width': 232}\n",
      "image and mask size not matching: {'/BitsPerComponent': 8, '/ColorSpace': IndirectObject(6907, 0, 2416031475152), '/Filter': '/DCTDecode', '/Height': 228, '/Intent': '/RelativeColorimetric', '/Name': '/X', '/SMask': IndirectObject(3243, 0, 2416031475152), '/Subtype': '/Image', '/Type': '/XObject', '/Width': 205}\n",
      "image and mask size not matching: {'/BitsPerComponent': 8, '/ColorSpace': IndirectObject(6907, 0, 2416031475152), '/Filter': '/DCTDecode', '/Height': 224, '/Intent': '/RelativeColorimetric', '/Name': '/X', '/SMask': IndirectObject(3264, 0, 2416031475152), '/Subtype': '/Image', '/Type': '/XObject', '/Width': 268}\n",
      "image and mask size not matching: {'/BitsPerComponent': 8, '/ColorSpace': IndirectObject(6907, 0, 2416031475152), '/Filter': '/DCTDecode', '/Height': 223, '/Intent': '/RelativeColorimetric', '/Name': '/X', '/SMask': IndirectObject(3268, 0, 2416031475152), '/Subtype': '/Image', '/Type': '/XObject', '/Width': 196}\n",
      "image and mask size not matching: {'/BitsPerComponent': 8, '/ColorSpace': IndirectObject(6907, 0, 2416031475152), '/Filter': '/DCTDecode', '/Height': 174, '/Intent': '/RelativeColorimetric', '/Name': '/X', '/SMask': IndirectObject(3277, 0, 2416031475152), '/Subtype': '/Image', '/Type': '/XObject', '/Width': 174}\n",
      "image and mask size not matching: {'/BitsPerComponent': 8, '/ColorSpace': IndirectObject(6907, 0, 2416031475152), '/Filter': '/DCTDecode', '/Height': 179, '/Intent': '/RelativeColorimetric', '/Name': '/X', '/SMask': IndirectObject(3294, 0, 2416031475152), '/Subtype': '/Image', '/Type': '/XObject', '/Width': 180}\n",
      "image and mask size not matching: {'/BitsPerComponent': 8, '/ColorSpace': IndirectObject(6907, 0, 2416031475152), '/Filter': '/DCTDecode', '/Height': 272, '/Intent': '/RelativeColorimetric', '/Name': '/X', '/SMask': IndirectObject(3320, 0, 2416031475152), '/Subtype': '/Image', '/Type': '/XObject', '/Width': 256}\n",
      "image and mask size not matching: {'/BitsPerComponent': 8, '/ColorSpace': IndirectObject(6907, 0, 2416031475152), '/Filter': '/DCTDecode', '/Height': 251, '/Intent': '/RelativeColorimetric', '/Name': '/X', '/SMask': IndirectObject(3332, 0, 2416031475152), '/Subtype': '/Image', '/Type': '/XObject', '/Width': 290}\n",
      "image and mask size not matching: {'/BitsPerComponent': 8, '/ColorSpace': IndirectObject(6907, 0, 2416031475152), '/Filter': '/DCTDecode', '/Height': 238, '/Intent': '/RelativeColorimetric', '/Name': '/X', '/SMask': IndirectObject(3392, 0, 2416031475152), '/Subtype': '/Image', '/Type': '/XObject', '/Width': 196}\n"
     ]
    }
   ],
   "source": [
    "root_folder = \"webApp2/data/result\"\n",
    "for company in [\"Nestle\"]:\n",
    "    for year in range(2015, 2023):\n",
    "        folder = os.path.join(root_folder, f\"{company}_{year}\")\n",
    "        pdf_name = f\"{company}_{year}.pdf\"\n",
    "        delete_image_files(folder)\n",
    "        image_extract(folder, pdf_name)"
   ]
  }
 ],
 "metadata": {
  "kernelspec": {
   "display_name": "base",
   "language": "python",
   "name": "python3"
  },
  "language_info": {
   "codemirror_mode": {
    "name": "ipython",
    "version": 3
   },
   "file_extension": ".py",
   "mimetype": "text/x-python",
   "name": "python",
   "nbconvert_exporter": "python",
   "pygments_lexer": "ipython3",
   "version": "3.11.5"
  }
 },
 "nbformat": 4,
 "nbformat_minor": 2
}
