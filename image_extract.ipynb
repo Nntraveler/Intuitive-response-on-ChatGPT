{
 "cells": [
  {
   "cell_type": "code",
   "execution_count": null,
   "metadata": {},
   "outputs": [],
   "source": [
    "from sentence_transformers import SentenceTransformer, util\n",
    "import torch\n",
    "from pypdf import PdfReader\n",
    "from PIL import Image\n",
    "import os\n",
    "import io\n",
    "from collections import defaultdict\n",
    "import json\n",
    "import re"
   ]
  },
  {
   "cell_type": "code",
   "execution_count": null,
   "metadata": {},
   "outputs": [],
   "source": [
    "def preprocess_context(context:str):\n",
    "    context = re.sub(r\"\\\\u[0-9A-Fa-f]{4}\", \"\", context)\n",
    "    rows = context.split('\\n')\n",
    "    rows = [row[:77] for row in rows if row != '']\n",
    "    return rows"
   ]
  },
  {
   "cell_type": "code",
   "execution_count": null,
   "metadata": {},
   "outputs": [],
   "source": [
    "#Load CLIP model\n",
    "model = SentenceTransformer('clip-ViT-B-32')\n",
    "def get_similar_sentences(image_emb, corpus_emb, top_k=1):\n",
    "\n",
    "    # We use cosine-similarity and torch.topk to find the highest 5 scores\n",
    "    cos_scores = util.cos_sim(image_emb, corpus_emb)[0]\n",
    "    top_results = torch.topk(cos_scores, k=top_k)\n",
    "\n",
    "    return top_results"
   ]
  },
  {
   "cell_type": "code",
   "execution_count": null,
   "metadata": {},
   "outputs": [],
   "source": [
    "def image_extract(folder, pdf_name):\n",
    "    reader = PdfReader(os.path.join(folder, pdf_name))\n",
    "    caption = defaultdict(list)\n",
    "\n",
    "    for i, page in enumerate(reader.pages[:]):\n",
    "        candidate_images = []\n",
    "        try:\n",
    "            for image_file_object in page.images:                \n",
    "                image = Image.open(io.BytesIO(image_file_object.data))\n",
    "                width, height = image.size\n",
    "                if width < 100 or height < 100:\n",
    "                    continue\n",
    "                image = image.convert('RGB')\n",
    "                file_name = \"page_{}_image_{}.png\".format(i, len(candidate_images))\n",
    "                image.save(os.path.join(folder,file_name))\n",
    "                candidate_images.append(image)\n",
    "\n",
    "        except Exception as e:\n",
    "            print(f\"image extracton failed in {pdf_name}, page:{i}\")\n",
    "        if len(candidate_images) == 0:\n",
    "            continue\n",
    "\n",
    "        raw_context = page.extract_text() # extract text from this page\n",
    "        context = preprocess_context(raw_context)\n",
    "        if len(context) == 0:\n",
    "            continue\n",
    "        top_k = min(len(context), 3)\n",
    "        corpus_emb = model.encode(context, convert_to_tensor=True)\n",
    "\n",
    "        image_emb = model.encode(candidate_images, convert_to_tensor=True)\n",
    "        top_results = util.semantic_search(image_emb, corpus_emb, top_k=top_k)\n",
    "        for j in range(len(candidate_images)):\n",
    "            file_name = f\"page_{i}_image_{j}.png\"\n",
    "            candidate_images[j].save(os.path.join(folder,file_name))\n",
    "            results = top_results[j]\n",
    "            for k in range(top_k):\n",
    "                if results[k][\"score\"] < 0.3:\n",
    "                    break\n",
    "                caption[file_name].append(context[results[k][\"corpus_id\"]])\n",
    "    json.dump(caption, open(os.path.join(folder, \"caption.json\"), \"w\"))"
   ]
  },
  {
   "cell_type": "code",
   "execution_count": null,
   "metadata": {},
   "outputs": [],
   "source": [
    "def delete_image_files(directory):\n",
    "    # List all files in the given directory\n",
    "    files = os.listdir(directory)\n",
    "\n",
    "    for file in files:\n",
    "        if \"page\" in file and \"image\" in file and file.endswith('.png'):\n",
    "            file_path = os.path.join(directory, file)\n",
    "\n",
    "            # Delete the file\n",
    "            os.remove(file_path)\n",
    "        if \"caption\" in file:\n",
    "            file_path = os.path.join(directory, file)\n",
    "\n",
    "            # Delete the file\n",
    "            os.remove(file_path)"
   ]
  },
  {
   "cell_type": "code",
   "execution_count": null,
   "metadata": {},
   "outputs": [],
   "source": [
    "root_folder = \"webApp2/data/result\"\n",
    "for company in [\"Unilever\", \"Colgate\", \"L_Oreal\", \"Nestle\", \"P&G\"]:\n",
    "    for year in range(2016, 2023):\n",
    "        folder = os.path.join(root_folder, f\"{company}_{year}\")\n",
    "        files = os.listdir(folder)\n",
    "        for file in files:\n",
    "            if file.endswith(\".pdf\"):\n",
    "                pdf_name = file\n",
    "                delete_image_files(folder)\n",
    "                image_extract(folder, pdf_name)\n",
    "                break"
   ]
  }
 ],
 "metadata": {
  "kernelspec": {
   "display_name": "base",
   "language": "python",
   "name": "python3"
  },
  "language_info": {
   "codemirror_mode": {
    "name": "ipython",
    "version": 3
   },
   "file_extension": ".py",
   "mimetype": "text/x-python",
   "name": "python",
   "nbconvert_exporter": "python",
   "pygments_lexer": "ipython3",
   "version": "3.9.12"
  }
 },
 "nbformat": 4,
 "nbformat_minor": 2
}
