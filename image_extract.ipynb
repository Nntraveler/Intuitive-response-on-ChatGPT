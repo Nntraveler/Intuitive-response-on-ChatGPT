{
 "cells": [
  {
   "cell_type": "code",
   "execution_count": 1,
   "metadata": {},
   "outputs": [
    {
     "name": "stderr",
     "output_type": "stream",
     "text": [
      "c:\\Users\\Wenqi.Sun\\AppData\\Local\\miniconda3\\Lib\\site-packages\\tqdm\\auto.py:21: TqdmWarning: IProgress not found. Please update jupyter and ipywidgets. See https://ipywidgets.readthedocs.io/en/stable/user_install.html\n",
      "  from .autonotebook import tqdm as notebook_tqdm\n"
     ]
    }
   ],
   "source": [
    "from sentence_transformers import SentenceTransformer, util\n",
    "import torch\n",
    "from pypdf import PdfReader\n",
    "from PIL import Image\n",
    "import os\n",
    "import io\n",
    "from collections import defaultdict\n",
    "import json\n",
    "import re"
   ]
  },
  {
   "cell_type": "code",
   "execution_count": 27,
   "metadata": {},
   "outputs": [],
   "source": [
    "def preprocess_context(context:str):\n",
    "    context = re.sub(r\"\\\\u[0-9A-Fa-f]{4}\", \"\", context)\n",
    "    rows = context.split('\\n')\n",
    "    rows = [row[:77] for row in rows if row != '']\n",
    "    return rows"
   ]
  },
  {
   "cell_type": "code",
   "execution_count": 6,
   "metadata": {},
   "outputs": [],
   "source": [
    "#Load CLIP model\n",
    "model = SentenceTransformer('clip-ViT-B-32')\n",
    "def get_similar_sentences(image_emb, corpus_emb, top_k=1):\n",
    "\n",
    "    # We use cosine-similarity and torch.topk to find the highest 5 scores\n",
    "    cos_scores = util.cos_sim(image_emb, corpus_emb)[0]\n",
    "    top_results = torch.topk(cos_scores, k=top_k)\n",
    "\n",
    "    return top_results"
   ]
  },
  {
   "cell_type": "code",
   "execution_count": 29,
   "metadata": {},
   "outputs": [],
   "source": [
    "def image_extract(folder, pdf_name):\n",
    "    reader = PdfReader(os.path.join(folder, pdf_name))\n",
    "    count = 0\n",
    "    caption = defaultdict(list)\n",
    "\n",
    "    for i, page in enumerate(reader.pages[:]):\n",
    "        raw_context = page.extract_text() # extract text from this page\n",
    "        context = preprocess_context(raw_context)\n",
    "        count = 0\n",
    "        top_k = min(len(context), 3)\n",
    "        corpus_emb = model.encode(context, convert_to_tensor=True)\n",
    "        for image_file_object in page.images:\n",
    "            file_name = os.path.splitext(image_file_object.name)[0]\n",
    "            file_name = f\"page_{i}_image_{count}.png\"\n",
    "            image = Image.open(io.BytesIO(image_file_object.data))\n",
    "            image = image.convert('RGB')\n",
    "            image_emb = model.encode(image, convert_to_tensor=True)\n",
    "            top_results = get_similar_sentences(image_emb, corpus_emb, top_k=top_k)\n",
    "            for score, idx in zip(top_results[0], top_results[1]):\n",
    "                if score < 0.25:\n",
    "                    break\n",
    "                caption[file_name].append(context[idx])\n",
    "            image.save(os.path.join(folder,file_name))\n",
    "            count += 1\n",
    "    json.dump(caption, open(os.path.join(folder, \"caption.json\"), \"w\"))"
   ]
  },
  {
   "cell_type": "code",
   "execution_count": 8,
   "metadata": {},
   "outputs": [],
   "source": [
    "company = \"Unilever\"\n",
    "root_folder = \"webApp2/data/result\""
   ]
  },
  {
   "cell_type": "code",
   "execution_count": 30,
   "metadata": {},
   "outputs": [],
   "source": [
    "for year in range(2016, 2023):\n",
    "    folder = os.path.join(root_folder, f\"{company}_{year}\")\n",
    "    pdf_name = f\"ir-q4-{year}-full-announcement.pdf\"\n",
    "    image_extract(folder, pdf_name)"
   ]
  }
 ],
 "metadata": {
  "kernelspec": {
   "display_name": "base",
   "language": "python",
   "name": "python3"
  },
  "language_info": {
   "codemirror_mode": {
    "name": "ipython",
    "version": 3
   },
   "file_extension": ".py",
   "mimetype": "text/x-python",
   "name": "python",
   "nbconvert_exporter": "python",
   "pygments_lexer": "ipython3",
   "version": "3.11.5"
  }
 },
 "nbformat": 4,
 "nbformat_minor": 2
}
