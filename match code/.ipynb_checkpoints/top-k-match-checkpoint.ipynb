{
 "cells": [
  {
   "cell_type": "code",
   "execution_count": 1,
   "id": "bab1f9e8-8efd-47b7-9dbd-09dee01fe307",
   "metadata": {},
   "outputs": [],
   "source": [
    "from sentence_transformers import SentenceTransformer, util\n",
    "from PIL import Image\n",
    "import os\n",
    "model = SentenceTransformer('all-MiniLM-L6-v2')\n",
    "directory = 'unilever/'\n",
    "top_k = 1\n",
    "image_dict = dict()\n",
    "for filename in os.listdir(directory):\n",
    "    file_path = os.path.join(directory, filename)\n",
    "    if filename.lower().endswith(('.jpg', 'png')):\n",
    "        with Image.open(file_path) as img:\n",
    "            image_dict[filename.lower()] = img.copy()"
   ]
  },
  {
   "cell_type": "code",
   "execution_count": 14,
   "id": "1ff36b8f-e091-4087-84b7-3d86672ce3dc",
   "metadata": {},
   "outputs": [
    {
     "name": "stderr",
     "output_type": "stream",
     "text": [
      "ftfy or spacy is not installed using BERT BasicTokenizer instead of ftfy.\n"
     ]
    }
   ],
   "source": [
    "model = SentenceTransformer('clip-ViT-B-32')\n",
    "text_emb = model.encode([\"Regional growth of ice cream\"])\n",
    "\n",
    "cos_scores = dict()\n",
    "for img_name, img in image_dict.items():\n",
    "    img_emb = model.encode(img)\n",
    "    cos_scores[img_name] = util.cos_sim(img_emb, text_emb)\n",
    "  "
   ]
  },
  {
   "cell_type": "code",
   "execution_count": 15,
   "id": "897e5e25-3fdb-4a6e-b47d-e0c25536dc10",
   "metadata": {},
   "outputs": [],
   "source": [
    "top_k_img_names = sorted(cos_scores, key=cos_scores.get, reverse=True)[:top_k]\n",
    "top_k_img_names = [directory + name for name in top_k_img_names]"
   ]
  },
  {
   "cell_type": "code",
   "execution_count": 16,
   "id": "948ee9dd-5651-4568-ba88-d8d080ca0eba",
   "metadata": {},
   "outputs": [
    {
     "name": "stdout",
     "output_type": "stream",
     "text": [
      "unilever/snip20231114_326.png\n"
     ]
    }
   ],
   "source": [
    "for name in top_k_img_names:\n",
    "    print(name)\n",
    "    img = Image.open(name)\n",
    "    img.show()"
   ]
  },
  {
   "cell_type": "code",
   "execution_count": null,
   "id": "193611bd-88c3-4d94-ac27-f2ee15b8b7d6",
   "metadata": {},
   "outputs": [],
   "source": []
  },
  {
   "cell_type": "code",
   "execution_count": null,
   "id": "d36937a7-08cd-4916-9d54-c73bf49b9331",
   "metadata": {},
   "outputs": [],
   "source": []
  },
  {
   "cell_type": "code",
   "execution_count": 4,
   "id": "f6fb95e5-f668-48e5-ba72-a8f8f81e7356",
   "metadata": {},
   "outputs": [],
   "source": [
    "from sentence_transformers import SentenceTransformer, util\n",
    "import torch\n",
    "from pypdf import PdfReader\n",
    "from pdf2image import convert_from_path\n",
    "import matplotlib.pyplot as plt\n",
    "from IPython.display import display\n",
    "import pdfplumber\n",
    "import os\n",
    "import io\n",
    "from collections import defaultdict\n",
    "import json\n",
    "from sentence_transformers import SentenceTransformer, util"
   ]
  },
  {
   "cell_type": "code",
   "execution_count": 5,
   "id": "f0f71447-ec9e-4546-85fe-159f9dd3f564",
   "metadata": {},
   "outputs": [],
   "source": [
    "file_name = \"./2022_annual_report_Unilever.pdf\"\n",
    "prompts = [\"Regional growth of ice cream\"]\n",
    "def match_page(file_name, prompts, top_k=3):\n",
    "    reader = PdfReader(file_name)   \n",
    "    result= dict()\n",
    "    cos_scores = dict()\n",
    "    for i, page in enumerate(reader.pages[:]):\n",
    "        raw_context = page.extract_text()\n",
    "        result[i] = raw_context\n",
    "    model = SentenceTransformer('clip-ViT-B-32')\n",
    "    text_emb = model.encode(prompts)\n",
    "    for page_i, context in result.items():\n",
    "        cos_scores[page_i] = util.cos_sim(model.encode([context[:77]]), text_emb)\n",
    "\n",
    "    top_k_keys = sorted(cos_scores, key=cos_scores.get, reverse=True)[:top_k]\n",
    "    return top_k_keys"
   ]
  },
  {
   "cell_type": "code",
   "execution_count": 6,
   "id": "82a81470-d1e1-4e10-98b5-26094e553cf8",
   "metadata": {},
   "outputs": [
    {
     "name": "stderr",
     "output_type": "stream",
     "text": [
      "ftfy or spacy is not installed using BERT BasicTokenizer instead of ftfy.\n"
     ]
    },
    {
     "data": {
      "text/plain": [
       "[58, 29, 42]"
      ]
     },
     "execution_count": 6,
     "metadata": {},
     "output_type": "execute_result"
    }
   ],
   "source": [
    "match_page(file_name, prompts)"
   ]
  },
  {
   "cell_type": "code",
   "execution_count": null,
   "id": "098b9801-5113-4fe4-b255-1df4dd4629d0",
   "metadata": {},
   "outputs": [],
   "source": []
  },
  {
   "cell_type": "code",
   "execution_count": null,
   "id": "8fe29aa6-03b1-4935-9437-7e82f1c08906",
   "metadata": {},
   "outputs": [],
   "source": []
  }
 ],
 "metadata": {
  "kernelspec": {
   "display_name": "deeplearning",
   "language": "python",
   "name": "deeplearning"
  },
  "language_info": {
   "codemirror_mode": {
    "name": "ipython",
    "version": 3
   },
   "file_extension": ".py",
   "mimetype": "text/x-python",
   "name": "python",
   "nbconvert_exporter": "python",
   "pygments_lexer": "ipython3",
   "version": "3.8.8"
  }
 },
 "nbformat": 4,
 "nbformat_minor": 5
}
